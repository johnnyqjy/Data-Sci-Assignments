{
 "cells": [
  {
   "cell_type": "code",
   "execution_count": 1,
   "id": "99bdf9f7",
   "metadata": {},
   "outputs": [],
   "source": [
    "import pandas as pd\n",
    "import statistics as stat\n",
    "import math\n",
    "import seaborn as sns\n",
    "import matplotlib.pyplot as plt\n",
    "import random"
   ]
  },
  {
   "cell_type": "markdown",
   "id": "eba68d36",
   "metadata": {},
   "source": [
    "This dataset is collected from this strategic MOBA game named \"League of Legends\". I find it interesting because we could basically predict the outcome of each game (blueWins or redWins) based on the statistics from the first 10 minutes. I understand that a glossary might be necessary in order to explain some of the columns, I will do so as we analyze this dataset. "
   ]
  },
  {
   "cell_type": "code",
   "execution_count": 2,
   "id": "a4aa03d2",
   "metadata": {
    "scrolled": true
   },
   "outputs": [
    {
     "data": {
      "text/html": [
       "<div>\n",
       "<style scoped>\n",
       "    .dataframe tbody tr th:only-of-type {\n",
       "        vertical-align: middle;\n",
       "    }\n",
       "\n",
       "    .dataframe tbody tr th {\n",
       "        vertical-align: top;\n",
       "    }\n",
       "\n",
       "    .dataframe thead th {\n",
       "        text-align: right;\n",
       "    }\n",
       "</style>\n",
       "<table border=\"1\" class=\"dataframe\">\n",
       "  <thead>\n",
       "    <tr style=\"text-align: right;\">\n",
       "      <th></th>\n",
       "      <th>gameId</th>\n",
       "      <th>blueWins</th>\n",
       "      <th>blueWardsPlaced</th>\n",
       "      <th>blueWardsDestroyed</th>\n",
       "      <th>blueFirstBlood</th>\n",
       "      <th>blueKills</th>\n",
       "      <th>blueDeaths</th>\n",
       "      <th>blueAssists</th>\n",
       "      <th>blueEliteMonsters</th>\n",
       "      <th>blueDragons</th>\n",
       "      <th>...</th>\n",
       "      <th>redTowersDestroyed</th>\n",
       "      <th>redTotalGold</th>\n",
       "      <th>redAvgLevel</th>\n",
       "      <th>redTotalExperience</th>\n",
       "      <th>redTotalMinionsKilled</th>\n",
       "      <th>redTotalJungleMinionsKilled</th>\n",
       "      <th>redGoldDiff</th>\n",
       "      <th>redExperienceDiff</th>\n",
       "      <th>redCSPerMin</th>\n",
       "      <th>redGoldPerMin</th>\n",
       "    </tr>\n",
       "  </thead>\n",
       "  <tbody>\n",
       "    <tr>\n",
       "      <th>0</th>\n",
       "      <td>4519157822</td>\n",
       "      <td>0</td>\n",
       "      <td>28</td>\n",
       "      <td>2</td>\n",
       "      <td>1</td>\n",
       "      <td>9</td>\n",
       "      <td>6</td>\n",
       "      <td>11</td>\n",
       "      <td>0</td>\n",
       "      <td>0</td>\n",
       "      <td>...</td>\n",
       "      <td>0</td>\n",
       "      <td>16567</td>\n",
       "      <td>6.8</td>\n",
       "      <td>17047</td>\n",
       "      <td>197</td>\n",
       "      <td>55</td>\n",
       "      <td>-643</td>\n",
       "      <td>8</td>\n",
       "      <td>19.7</td>\n",
       "      <td>1656.7</td>\n",
       "    </tr>\n",
       "    <tr>\n",
       "      <th>1</th>\n",
       "      <td>4523371949</td>\n",
       "      <td>0</td>\n",
       "      <td>12</td>\n",
       "      <td>1</td>\n",
       "      <td>0</td>\n",
       "      <td>5</td>\n",
       "      <td>5</td>\n",
       "      <td>5</td>\n",
       "      <td>0</td>\n",
       "      <td>0</td>\n",
       "      <td>...</td>\n",
       "      <td>1</td>\n",
       "      <td>17620</td>\n",
       "      <td>6.8</td>\n",
       "      <td>17438</td>\n",
       "      <td>240</td>\n",
       "      <td>52</td>\n",
       "      <td>2908</td>\n",
       "      <td>1173</td>\n",
       "      <td>24.0</td>\n",
       "      <td>1762.0</td>\n",
       "    </tr>\n",
       "    <tr>\n",
       "      <th>2</th>\n",
       "      <td>4521474530</td>\n",
       "      <td>0</td>\n",
       "      <td>15</td>\n",
       "      <td>0</td>\n",
       "      <td>0</td>\n",
       "      <td>7</td>\n",
       "      <td>11</td>\n",
       "      <td>4</td>\n",
       "      <td>1</td>\n",
       "      <td>1</td>\n",
       "      <td>...</td>\n",
       "      <td>0</td>\n",
       "      <td>17285</td>\n",
       "      <td>6.8</td>\n",
       "      <td>17254</td>\n",
       "      <td>203</td>\n",
       "      <td>28</td>\n",
       "      <td>1172</td>\n",
       "      <td>1033</td>\n",
       "      <td>20.3</td>\n",
       "      <td>1728.5</td>\n",
       "    </tr>\n",
       "    <tr>\n",
       "      <th>3</th>\n",
       "      <td>4524384067</td>\n",
       "      <td>0</td>\n",
       "      <td>43</td>\n",
       "      <td>1</td>\n",
       "      <td>0</td>\n",
       "      <td>4</td>\n",
       "      <td>5</td>\n",
       "      <td>5</td>\n",
       "      <td>1</td>\n",
       "      <td>0</td>\n",
       "      <td>...</td>\n",
       "      <td>0</td>\n",
       "      <td>16478</td>\n",
       "      <td>7.0</td>\n",
       "      <td>17961</td>\n",
       "      <td>235</td>\n",
       "      <td>47</td>\n",
       "      <td>1321</td>\n",
       "      <td>7</td>\n",
       "      <td>23.5</td>\n",
       "      <td>1647.8</td>\n",
       "    </tr>\n",
       "    <tr>\n",
       "      <th>4</th>\n",
       "      <td>4436033771</td>\n",
       "      <td>0</td>\n",
       "      <td>75</td>\n",
       "      <td>4</td>\n",
       "      <td>0</td>\n",
       "      <td>6</td>\n",
       "      <td>6</td>\n",
       "      <td>6</td>\n",
       "      <td>0</td>\n",
       "      <td>0</td>\n",
       "      <td>...</td>\n",
       "      <td>0</td>\n",
       "      <td>17404</td>\n",
       "      <td>7.0</td>\n",
       "      <td>18313</td>\n",
       "      <td>225</td>\n",
       "      <td>67</td>\n",
       "      <td>1004</td>\n",
       "      <td>-230</td>\n",
       "      <td>22.5</td>\n",
       "      <td>1740.4</td>\n",
       "    </tr>\n",
       "  </tbody>\n",
       "</table>\n",
       "<p>5 rows × 40 columns</p>\n",
       "</div>"
      ],
      "text/plain": [
       "       gameId  blueWins  blueWardsPlaced  blueWardsDestroyed  blueFirstBlood  \\\n",
       "0  4519157822         0               28                   2               1   \n",
       "1  4523371949         0               12                   1               0   \n",
       "2  4521474530         0               15                   0               0   \n",
       "3  4524384067         0               43                   1               0   \n",
       "4  4436033771         0               75                   4               0   \n",
       "\n",
       "   blueKills  blueDeaths  blueAssists  blueEliteMonsters  blueDragons  ...  \\\n",
       "0          9           6           11                  0            0  ...   \n",
       "1          5           5            5                  0            0  ...   \n",
       "2          7          11            4                  1            1  ...   \n",
       "3          4           5            5                  1            0  ...   \n",
       "4          6           6            6                  0            0  ...   \n",
       "\n",
       "   redTowersDestroyed  redTotalGold  redAvgLevel  redTotalExperience  \\\n",
       "0                   0         16567          6.8               17047   \n",
       "1                   1         17620          6.8               17438   \n",
       "2                   0         17285          6.8               17254   \n",
       "3                   0         16478          7.0               17961   \n",
       "4                   0         17404          7.0               18313   \n",
       "\n",
       "   redTotalMinionsKilled  redTotalJungleMinionsKilled  redGoldDiff  \\\n",
       "0                    197                           55         -643   \n",
       "1                    240                           52         2908   \n",
       "2                    203                           28         1172   \n",
       "3                    235                           47         1321   \n",
       "4                    225                           67         1004   \n",
       "\n",
       "   redExperienceDiff  redCSPerMin  redGoldPerMin  \n",
       "0                  8         19.7         1656.7  \n",
       "1               1173         24.0         1762.0  \n",
       "2               1033         20.3         1728.5  \n",
       "3                  7         23.5         1647.8  \n",
       "4               -230         22.5         1740.4  \n",
       "\n",
       "[5 rows x 40 columns]"
      ]
     },
     "execution_count": 2,
     "metadata": {},
     "output_type": "execute_result"
    }
   ],
   "source": [
    "league = pd.read_csv('high_diamond_ranked_10min.csv') #First 10 minutes of relatively competitive League games\n",
    "league.head()"
   ]
  },
  {
   "cell_type": "markdown",
   "id": "878dce06",
   "metadata": {},
   "source": [
    "Today I will be mainly using the \"blueWardsPlaced\" column to verify the Central Limit Theorem of Statistics. First we need to get the population parameters."
   ]
  },
  {
   "cell_type": "code",
   "execution_count": 3,
   "id": "dfaf1011",
   "metadata": {
    "scrolled": true
   },
   "outputs": [
    {
     "data": {
      "text/plain": [
       "count    9879.000000\n",
       "mean       22.288288\n",
       "std        18.019177\n",
       "min         5.000000\n",
       "25%        14.000000\n",
       "50%        16.000000\n",
       "75%        20.000000\n",
       "max       250.000000\n",
       "Name: blueWardsPlaced, dtype: float64"
      ]
     },
     "execution_count": 3,
     "metadata": {},
     "output_type": "execute_result"
    }
   ],
   "source": [
    "league['blueWardsPlaced'].describe()"
   ]
  },
  {
   "cell_type": "code",
   "execution_count": 4,
   "id": "dc2d40fe",
   "metadata": {
    "scrolled": true
   },
   "outputs": [
    {
     "name": "stdout",
     "output_type": "stream",
     "text": [
      "Population mean = 22.28828828828829\n",
      "Population median = 16\n",
      "Population standard deviation = 18.018264498769625\n"
     ]
    }
   ],
   "source": [
    "# The 3 parameters I choose for this assignment\n",
    "\n",
    "population_count = len(league['blueWardsPlaced'])\n",
    "pop_mean = stat.mean(league['blueWardsPlaced'])\n",
    "pop_median = stat.median(league['blueWardsPlaced'])\n",
    "pop_std = stat.pstdev(league['blueWardsPlaced'])\n",
    "print(\"Population mean =\",pop_mean)\n",
    "print(\"Population median =\",pop_median)\n",
    "print(\"Population standard deviation =\",pop_std)"
   ]
  },
  {
   "cell_type": "markdown",
   "id": "b11af3f7",
   "metadata": {},
   "source": [
    "This estimate function below calculates lists of the three parameters we are interested in, based on the sample size and sample count."
   ]
  },
  {
   "cell_type": "code",
   "execution_count": 5,
   "id": "17f77125",
   "metadata": {},
   "outputs": [],
   "source": [
    "def estimates(sample_size,sample_count):\n",
    "    sample_mean_list = []\n",
    "    sample_median_list = []\n",
    "    sample_std_list = []\n",
    "    for i in range(sample_count):\n",
    "        random_list = random.sample(range(0, 9879), sample_size) #generate a list of indexes based on the sample size\n",
    "        random_values = [league['blueWardsPlaced'][x] for x in random_list]\n",
    "        # statistics of one sample, rounded to one decimal place so we can get more repeats\n",
    "        sample_mean = round(stat.mean(random_values),1)\n",
    "        sample_median = round(stat.median(random_values),1)\n",
    "        sample_std = round(stat.pstdev(random_values),1)\n",
    "\n",
    "        sample_mean_list.append(sample_mean)\n",
    "        sample_median_list.append(sample_median)\n",
    "        sample_std_list.append(sample_std)\n",
    "        \n",
    "    return sample_mean_list, sample_median_list, sample_std_list"
   ]
  },
  {
   "cell_type": "markdown",
   "id": "a1050485",
   "metadata": {},
   "source": [
    "First we look at the sample mean estimates of a sample count of 1000 using sample sizes 2, 5, 10 ,30"
   ]
  },
  {
   "cell_type": "code",
   "execution_count": 6,
   "id": "c466bf2a",
   "metadata": {
    "scrolled": true
   },
   "outputs": [
    {
     "data": {
      "image/png": "[encoded data removed]",
      "text/plain": [
       "<Figure size 432x288 with 4 Axes>"
      ]
     },
     "metadata": {
      "needs_background": "light"
     },
     "output_type": "display_data"
    }
   ],
   "source": [
    "size2 = estimates(2,1000)[0]\n",
    "size5 = estimates(5,1000)[0]\n",
    "size10 = estimates(10,1000)[0]\n",
    "size30 = estimates(30,1000)[0]\n",
    "\n",
    "plt.subplot(221)\n",
    "sns.histplot(size2,kde = True)\n",
    "plt.title('Sample Size 2')\n",
    "plt.xlabel('Sample mean')\n",
    "plt.ylabel('Count')\n",
    "plt.subplot(222)\n",
    "sns.histplot(size5,kde = True)\n",
    "plt.title('Sample Size 5')\n",
    "plt.xlabel('Sample mean')\n",
    "plt.ylabel('Count')\n",
    "plt.subplot(223)\n",
    "sns.histplot(size10,kde = True)\n",
    "plt.title('Sample Size 10')\n",
    "plt.xlabel('Sample mean')\n",
    "plt.ylabel('Count')\n",
    "plt.subplot(224)\n",
    "sns.histplot(size30,kde = True)\n",
    "plt.title('Sample Size 30')\n",
    "plt.xlabel('Sample mean')\n",
    "plt.ylabel('Count')\n",
    "plt.subplots_adjust(left=0.1,bottom=0.1,right=0.9,top=0.9,wspace=0.6,hspace=0.6)"
   ]
  },
  {
   "cell_type": "markdown",
   "id": "8b903d2e",
   "metadata": {},
   "source": [
    "The sample mean distributions center at around 20, as expected based on the population mean. As we can see, the distributions of sample mean of small sample size are right skewed. As the sample size increases, the more the distribution resembles a normal shape (bell-curved). Thus it validates the Central Limit Theorem.\n",
    "\n",
    "Now let's see what happens if we increase the sample count to 5000."
   ]
  },
  {
   "cell_type": "code",
   "execution_count": 7,
   "id": "0349db04",
   "metadata": {},
   "outputs": [
    {
     "data": {
      "image/png": "[encoded data removed]",
      "text/plain": [
       "<Figure size 432x288 with 4 Axes>"
      ]
     },
     "metadata": {
      "needs_background": "light"
     },
     "output_type": "display_data"
    }
   ],
   "source": [
    "size2 = estimates(2,5000)[0]\n",
    "size5 = estimates(5,5000)[0]\n",
    "size10 = estimates(10,5000)[0]\n",
    "size30 = estimates(30,5000)[0]\n",
    "\n",
    "plt.subplot(221)\n",
    "sns.histplot(size2,kde = True)\n",
    "plt.title('Sample Size 2')\n",
    "plt.xlabel('Sample mean')\n",
    "plt.ylabel('Count')\n",
    "plt.subplot(222)\n",
    "sns.histplot(size5,kde = True)\n",
    "plt.title('Sample Size 5')\n",
    "plt.xlabel('Sample mean')\n",
    "plt.ylabel('Count')\n",
    "plt.subplot(223)\n",
    "sns.histplot(size10,kde = True)\n",
    "plt.title('Sample Size 10')\n",
    "plt.xlabel('Sample mean')\n",
    "plt.ylabel('Count')\n",
    "plt.subplot(224)\n",
    "sns.histplot(size30,kde = True)\n",
    "plt.title('Sample Size 30')\n",
    "plt.xlabel('Sample mean')\n",
    "plt.ylabel('Count')\n",
    "plt.subplots_adjust(left=0.1,bottom=0.1,right=0.9,top=0.9,wspace=0.6,hspace=0.6)"
   ]
  },
  {
   "cell_type": "markdown",
   "id": "5d56dcd5",
   "metadata": {},
   "source": [
    "From the plots above, we can see that the data are more dense and clustered. The curves seem to fit the histograms more. Realistically, sample count of 5000 (1/2 of our data) is very expensive and inefficient to run. It takes minutes to graph."
   ]
  },
  {
   "cell_type": "markdown",
   "id": "b6b77376",
   "metadata": {},
   "source": [
    "Now we look at the sample median estimates of a sample count of 1000 using sample sizes 5, 10 , 30, 50"
   ]
  },
  {
   "cell_type": "code",
   "execution_count": 8,
   "id": "2f5c1598",
   "metadata": {},
   "outputs": [
    {
     "data": {
      "image/png": "[encoded data removed]",
      "text/plain": [
       "<Figure size 432x288 with 4 Axes>"
      ]
     },
     "metadata": {
      "needs_background": "light"
     },
     "output_type": "display_data"
    }
   ],
   "source": [
    "size5 = estimates(5,1000)[1]\n",
    "size10 = estimates(10,1000)[1]\n",
    "size30 = estimates(30,1000)[1]\n",
    "size50 = estimates(50,1000)[1]\n",
    "\n",
    "plt.subplot(221)\n",
    "sns.histplot(size5,kde = True)\n",
    "plt.title('Sample Size 5')\n",
    "plt.xlabel('Sample median')\n",
    "plt.ylabel('Count')\n",
    "plt.subplot(222)\n",
    "sns.histplot(size10,kde = True)\n",
    "plt.title('Sample Size 10')\n",
    "plt.xlabel('Sample median')\n",
    "plt.ylabel('Count')\n",
    "plt.subplot(223)\n",
    "sns.histplot(size30,kde = True)\n",
    "plt.title('Sample Size 30')\n",
    "plt.xlabel('Sample median')\n",
    "plt.ylabel('Count')\n",
    "plt.subplot(224)\n",
    "sns.histplot(size50,kde = True)\n",
    "plt.title('Sample Size 50')\n",
    "plt.xlabel('Sample median')\n",
    "plt.ylabel('Count')\n",
    "plt.subplots_adjust(left=0.1,bottom=0.1,right=0.9,top=0.9,wspace=0.6,hspace=0.6)"
   ]
  },
  {
   "cell_type": "markdown",
   "id": "78efe55c",
   "metadata": {},
   "source": [
    "This is very interesting to see. The sample median distributions center at around 16. For sample median, we can see that the distributions are normal with one mode for low sample sizes (5 and 10). As we increase the sample size, the distributions become bimodal with two peaks in the graphs. It makes sense intuitively since median takes the middle value and it varies drastically depending on the sample size."
   ]
  },
  {
   "cell_type": "markdown",
   "id": "bd8821ef",
   "metadata": {},
   "source": [
    "How about the sample standard deviation estimates of a sample count of 1000 using sample sizes 5, 10 , 30, 50"
   ]
  },
  {
   "cell_type": "code",
   "execution_count": 9,
   "id": "935c132a",
   "metadata": {},
   "outputs": [
    {
     "data": {
      "image/png": "[encoded data removed]",
      "text/plain": [
       "<Figure size 432x288 with 4 Axes>"
      ]
     },
     "metadata": {
      "needs_background": "light"
     },
     "output_type": "display_data"
    }
   ],
   "source": [
    "size5 = estimates(5,1000)[2]\n",
    "size10 = estimates(10,1000)[2]\n",
    "size30 = estimates(30,1000)[2]\n",
    "size50 = estimates(50,1000)[2]\n",
    "\n",
    "plt.subplot(221)\n",
    "sns.histplot(size5,kde = True)\n",
    "plt.title('Sample Size 5')\n",
    "plt.xlabel('Sample std')\n",
    "plt.ylabel('Count')\n",
    "plt.subplot(222)\n",
    "sns.histplot(size10,kde = True)\n",
    "plt.title('Sample Size 10')\n",
    "plt.xlabel('Sample std')\n",
    "plt.ylabel('Count')\n",
    "plt.subplot(223)\n",
    "sns.histplot(size30,kde = True)\n",
    "plt.title('Sample Size 30')\n",
    "plt.xlabel('Sample std')\n",
    "plt.ylabel('Count')\n",
    "plt.subplot(224)\n",
    "sns.histplot(size50,kde = True)\n",
    "plt.title('Sample Size 50')\n",
    "plt.xlabel('Sample std')\n",
    "plt.ylabel('Count')\n",
    "plt.subplots_adjust(left=0.1,bottom=0.1,right=0.9,top=0.9,wspace=0.6,hspace=0.6)"
   ]
  },
  {
   "cell_type": "markdown",
   "id": "0901b368",
   "metadata": {},
   "source": [
    "The sample standard deviation distributions center at around 18. As we can see, the sample standard deviation estimate displays a similar pattern compared the sample mean estimate. The distribution starts out unevenly and skewed right, and gradually converges to normal-shaped as we increase the sample size, thus verifying the CLT. Surprisingly, sample size 30 has a smoother curve than sample size 50."
   ]
  },
  {
   "cell_type": "markdown",
   "id": "7662cc43",
   "metadata": {},
   "source": [
    "## Conclusion"
   ]
  },
  {
   "cell_type": "markdown",
   "id": "1bd532a5",
   "metadata": {},
   "source": [
    "Overall, our experiments proved Central Limit Theorem of statistics and 30 was a good number. It seems that sample size matters more than the sample count because sample size determines how many data points we are drawing from the population, and sample count determines how many times we are drawing that amount from the population. Based on the lecture notes, estimating the standard deviation parameter is more challenging than estimating the population mean and median. However, in our experiments it is shown otherwise. Sample median is contradicting our CLT, and sample standard deviation is not. Maybe \"estimating\" here means computing, and I can see why computing standard deviation is way harder to do than the other two parameters. The only thing left to explore is the sample median distributions with high sample size. Is there a scientific explanation to why it becomes a bi-modal distribution?"
   ]
  },
  {
   "cell_type": "code",
   "execution_count": null,
   "id": "ee28c697",
   "metadata": {},
   "outputs": [],
   "source": []
  }
 ],
 "metadata": {
  "kernelspec": {
   "display_name": "Python 3 (ipykernel)",
   "language": "python",
   "name": "python3"
  },
  "language_info": {
   "codemirror_mode": {
    "name": "ipython",
    "version": 3
   },
   "file_extension": ".py",
   "mimetype": "text/x-python",
   "name": "python",
   "nbconvert_exporter": "python",
   "pygments_lexer": "ipython3",
   "version": "3.9.12"
  }
 },
 "nbformat": 4,
 "nbformat_minor": 5
}
